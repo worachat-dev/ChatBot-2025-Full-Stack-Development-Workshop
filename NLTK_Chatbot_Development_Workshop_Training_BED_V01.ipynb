{
  "cells": [
    {
      "cell_type": "markdown",
      "source": [
        "#Chatbot Development Workshop V01 by Worachat W., 2025"
      ],
      "metadata": {
        "id": "fyYZIua262M5"
      }
    },
    {
      "cell_type": "code",
      "source": [
        "# Chatbot Development Workshop Training\n",
        "# Building a Simple Chatbot from Scratch in Python (using NLTK)\n",
        "# Instructor: Worachat Wannawong, Ph.D. 2024\n",
        "\n",
        "# Import necessary libraries\n",
        "from nltk.chat.util import Chat, reflections\n",
        "\n",
        "# Print the reflections dictionary to demonstrate how pronoun swapping works\n",
        "print(\"Reflections dictionary:\")\n",
        "print(reflections)\n",
        "\n",
        "# Define pairs of patterns and responses\n",
        "# Patterns use regular expressions for flexibility, responses are lists for variety\n",
        "pairs = [\n",
        "    [r'hello|hi|hey', ['Hello!', 'Hi there!', 'Hey! How can I assist you?']],\n",
        "    [r'how are you?', ['I am fine, thank you!', 'Doing well, how about you?']],\n",
        "    [r'what is your name?', ['I am Chatbot.', 'My name is Chatbot, here to help you!']],\n",
        "    [r'what is chatbot?', ['I am a Python program designed to chat with you!', 'Chatbot is a simple AI built with NLTK.']],\n",
        "    [r'need help', ['How can I assist you today?']],\n",
        "    [r'i am worachat', ['Nice to meet you, Worachat!']],\n",
        "    [r'quit', ['Goodbye!', 'See you later!']],\n",
        "    [r'.*', ['Sorry, I don’t understand that.', 'Can you say something else?']]\n",
        "]\n",
        "\n",
        "# Create a Chat object with the defined pairs and reflections\n",
        "chat = Chat(pairs, reflections)\n",
        "\n",
        "# Define a custom conversation loop for Google Colab compatibility\n",
        "def chat_loop():\n",
        "    print(\"Type 'quit' to end the conversation.\")\n",
        "    while True:\n",
        "        user_input = input(\"You: \")\n",
        "        if user_input.lower() == 'quit':\n",
        "            print(\"Chatbot: Goodbye!\")\n",
        "            break\n",
        "        response = chat.respond(user_input)\n",
        "        print(\"Chatbot:\", response if response else \"I don’t understand that.\")\n",
        "\n",
        "# Start the chatbot\n",
        "chat_loop()"
      ],
      "metadata": {
        "colab": {
          "base_uri": "https://localhost:8080/"
        },
        "id": "RhZzRm2D3ao0",
        "outputId": "a3e71e7b-24b7-4b8f-ebf5-fa0607f32ec5"
      },
      "execution_count": null,
      "outputs": [
        {
          "output_type": "stream",
          "name": "stdout",
          "text": [
            "Reflections dictionary:\n",
            "{'i am': 'you are', 'i was': 'you were', 'i': 'you', \"i'm\": 'you are', \"i'd\": 'you would', \"i've\": 'you have', \"i'll\": 'you will', 'my': 'your', 'you are': 'I am', 'you were': 'I was', \"you've\": 'I have', \"you'll\": 'I will', 'your': 'my', 'yours': 'mine', 'you': 'me', 'me': 'you'}\n",
            "Type 'quit' to end the conversation.\n",
            "You: hi\n",
            "Chatbot: Hi there!\n",
            "You: Thanks, bye\n",
            "Chatbot: Can you say something else?\n",
            "You: No, I cannot\n",
            "Chatbot: Can you say something else?\n",
            "You: I am Worachat\n",
            "Chatbot: Nice to meet you, Worachat!\n",
            "You: quit\n",
            "Chatbot: Goodbye!\n"
          ]
        }
      ]
    }
  ],
  "metadata": {
    "colab": {
      "provenance": []
    },
    "kernelspec": {
      "display_name": "Python 3",
      "name": "python3"
    }
  },
  "nbformat": 4,
  "nbformat_minor": 0
}